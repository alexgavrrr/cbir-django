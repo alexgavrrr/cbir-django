{
 "cells": [
  {
   "cell_type": "code",
   "execution_count": 1,
   "metadata": {},
   "outputs": [],
   "source": [
    "import peewee"
   ]
  },
  {
   "cell_type": "code",
   "execution_count": 2,
   "metadata": {},
   "outputs": [],
   "source": [
    "from peewee import *\n",
    "\n",
    "db_location = 'people.db'\n",
    "\n",
    "db = SqliteDatabase(db_location)\n",
    "\n",
    "class Person(Model):\n",
    "    name = CharField()\n",
    "    birthday = DateField()\n",
    "\n",
    "    class Meta:\n",
    "        database = db # This model uses the \"people.db\" database."
   ]
  },
  {
   "cell_type": "code",
   "execution_count": 3,
   "metadata": {},
   "outputs": [],
   "source": [
    "class Pet(Model):\n",
    "    owner = ForeignKeyField(Person, backref='pets')\n",
    "    name = CharField()\n",
    "    animal_type = CharField()\n",
    "\n",
    "    class Meta:\n",
    "        database = db # this model uses the \"people.db\" database"
   ]
  },
  {
   "cell_type": "code",
   "execution_count": 4,
   "metadata": {},
   "outputs": [
    {
     "data": {
      "text/plain": [
       "True"
      ]
     },
     "execution_count": 4,
     "metadata": {},
     "output_type": "execute_result"
    }
   ],
   "source": [
    "db.connect()"
   ]
  },
  {
   "cell_type": "code",
   "execution_count": 5,
   "metadata": {},
   "outputs": [],
   "source": [
    "db.create_tables([Person, Pet])"
   ]
  },
  {
   "cell_type": "code",
   "execution_count": null,
   "metadata": {},
   "outputs": [],
   "source": [
    "from datetime import date"
   ]
  },
  {
   "cell_type": "code",
   "execution_count": null,
   "metadata": {},
   "outputs": [],
   "source": [
    "uncle_bob = Person(name='Bob', birthday=date(1960, 1, 15))\n",
    "uncle_bob.save() # bob is now stored in the database"
   ]
  },
  {
   "cell_type": "code",
   "execution_count": 6,
   "metadata": {},
   "outputs": [
    {
     "data": {
      "text/plain": [
       "1"
      ]
     },
     "execution_count": 6,
     "metadata": {},
     "output_type": "execute_result"
    }
   ],
   "source": [
    "uncle_lol = Person(name='lol', birthday=date(1971, 2, 9))\n",
    "uncle_lol.save() "
   ]
  },
  {
   "cell_type": "code",
   "execution_count": 55,
   "metadata": {},
   "outputs": [
    {
     "ename": "AttributeError",
     "evalue": "'SqliteDatabase' object has no attribute 'select'",
     "output_type": "error",
     "traceback": [
      "\u001b[0;31m---------------------------------------------------------------------------\u001b[0m",
      "\u001b[0;31mAttributeError\u001b[0m                            Traceback (most recent call last)",
      "\u001b[0;32m<ipython-input-55-528e4f316ddc>\u001b[0m in \u001b[0;36m<module>\u001b[0;34m\u001b[0m\n\u001b[0;32m----> 1\u001b[0;31m \u001b[0mdb\u001b[0m\u001b[0;34m.\u001b[0m\u001b[0mselect\u001b[0m\u001b[0;34m(\u001b[0m\u001b[0;34m)\u001b[0m\u001b[0;34m\u001b[0m\u001b[0m\n\u001b[0m",
      "\u001b[0;31mAttributeError\u001b[0m: 'SqliteDatabase' object has no attribute 'select'"
     ]
    }
   ],
   "source": [
    "db.select()"
   ]
  },
  {
   "cell_type": "code",
   "execution_count": null,
   "metadata": {},
   "outputs": [],
   "source": []
  },
  {
   "cell_type": "code",
   "execution_count": null,
   "metadata": {},
   "outputs": [],
   "source": []
  },
  {
   "cell_type": "code",
   "execution_count": 53,
   "metadata": {},
   "outputs": [
    {
     "data": {
      "text/plain": [
       "False"
      ]
     },
     "execution_count": 53,
     "metadata": {},
     "output_type": "execute_result"
    }
   ],
   "source": [
    "uncle_bob.bind(db)"
   ]
  },
  {
   "cell_type": "code",
   "execution_count": null,
   "metadata": {},
   "outputs": [],
   "source": []
  },
  {
   "cell_type": "code",
   "execution_count": 7,
   "metadata": {},
   "outputs": [],
   "source": [
    "grandma = Person.create(name='Grandma', birthday=date(1935, 3, 1))\n",
    "herb = Person.create(name='Herb', birthday=date(1950, 5, 5))"
   ]
  },
  {
   "cell_type": "code",
   "execution_count": 8,
   "metadata": {},
   "outputs": [],
   "source": [
    "bob_kitty = Pet.create(owner=uncle_bob, name='Kitty', animal_type='cat')\n",
    "herb_fido = Pet.create(owner=herb, name='Fido', animal_type='dog')\n",
    "herb_mittens = Pet.create(owner=herb, name='Mittens', animal_type='cat')\n",
    "herb_mittens_jr = Pet.create(owner=herb, name='Mittens Jr', animal_type='cat')"
   ]
  },
  {
   "cell_type": "code",
   "execution_count": 10,
   "metadata": {},
   "outputs": [],
   "source": [
    "grandma = Person.select().where(Person.name == 'Grandma').get()"
   ]
  },
  {
   "cell_type": "code",
   "execution_count": 11,
   "metadata": {},
   "outputs": [
    {
     "data": {
      "text/plain": [
       "<Person: 2>"
      ]
     },
     "execution_count": 11,
     "metadata": {},
     "output_type": "execute_result"
    }
   ],
   "source": [
    "grandma"
   ]
  },
  {
   "cell_type": "code",
   "execution_count": 13,
   "metadata": {},
   "outputs": [],
   "source": [
    "db = SqliteDatabase('people.db')"
   ]
  },
  {
   "cell_type": "code",
   "execution_count": 36,
   "metadata": {},
   "outputs": [],
   "source": [
    "connection = db.connection()"
   ]
  },
  {
   "cell_type": "code",
   "execution_count": 41,
   "metadata": {},
   "outputs": [
    {
     "data": {
      "text/plain": [
       "True"
      ]
     },
     "execution_count": 41,
     "metadata": {},
     "output_type": "execute_result"
    }
   ],
   "source": [
    "db.close()"
   ]
  },
  {
   "cell_type": "code",
   "execution_count": 42,
   "metadata": {},
   "outputs": [
    {
     "data": {
      "text/plain": [
       "True"
      ]
     },
     "execution_count": 42,
     "metadata": {},
     "output_type": "execute_result"
    }
   ],
   "source": [
    "db.connect()"
   ]
  },
  {
   "cell_type": "code",
   "execution_count": 22,
   "metadata": {},
   "outputs": [
    {
     "data": {
      "text/plain": [
       "<sqlite3.Connection at 0x12e31e570>"
      ]
     },
     "execution_count": 22,
     "metadata": {},
     "output_type": "execute_result"
    }
   ],
   "source": [
    "connection"
   ]
  },
  {
   "cell_type": "code",
   "execution_count": 16,
   "metadata": {},
   "outputs": [
    {
     "data": {
      "text/plain": [
       "True"
      ]
     },
     "execution_count": 16,
     "metadata": {},
     "output_type": "execute_result"
    }
   ],
   "source": [
    "db.close()"
   ]
  },
  {
   "cell_type": "code",
   "execution_count": 18,
   "metadata": {},
   "outputs": [
    {
     "data": {
      "text/plain": [
       "['DataError',\n",
       " 'DatabaseError',\n",
       " 'Error',\n",
       " 'IntegrityError',\n",
       " 'InterfaceError',\n",
       " 'InternalError',\n",
       " 'NotSupportedError',\n",
       " 'OperationalError',\n",
       " 'ProgrammingError',\n",
       " 'Warning',\n",
       " '__call__',\n",
       " '__class__',\n",
       " '__delattr__',\n",
       " '__dir__',\n",
       " '__doc__',\n",
       " '__enter__',\n",
       " '__eq__',\n",
       " '__exit__',\n",
       " '__format__',\n",
       " '__ge__',\n",
       " '__getattribute__',\n",
       " '__gt__',\n",
       " '__hash__',\n",
       " '__init__',\n",
       " '__init_subclass__',\n",
       " '__le__',\n",
       " '__lt__',\n",
       " '__ne__',\n",
       " '__new__',\n",
       " '__reduce__',\n",
       " '__reduce_ex__',\n",
       " '__repr__',\n",
       " '__setattr__',\n",
       " '__sizeof__',\n",
       " '__str__',\n",
       " '__subclasshook__',\n",
       " 'close',\n",
       " 'commit',\n",
       " 'create_aggregate',\n",
       " 'create_collation',\n",
       " 'create_function',\n",
       " 'cursor',\n",
       " 'enable_load_extension',\n",
       " 'execute',\n",
       " 'executemany',\n",
       " 'executescript',\n",
       " 'in_transaction',\n",
       " 'interrupt',\n",
       " 'isolation_level',\n",
       " 'iterdump',\n",
       " 'load_extension',\n",
       " 'rollback',\n",
       " 'row_factory',\n",
       " 'set_authorizer',\n",
       " 'set_progress_handler',\n",
       " 'set_trace_callback',\n",
       " 'text_factory',\n",
       " 'total_changes']"
      ]
     },
     "execution_count": 18,
     "metadata": {},
     "output_type": "execute_result"
    }
   ],
   "source": [
    "dir(connection)"
   ]
  },
  {
   "cell_type": "code",
   "execution_count": 23,
   "metadata": {},
   "outputs": [
    {
     "data": {
      "text/plain": [
       "<sqlite3.Cursor at 0x12dfb7ea0>"
      ]
     },
     "execution_count": 23,
     "metadata": {},
     "output_type": "execute_result"
    }
   ],
   "source": [
    "connection.cursor()"
   ]
  },
  {
   "cell_type": "code",
   "execution_count": 33,
   "metadata": {},
   "outputs": [],
   "source": [
    "connection.close()"
   ]
  },
  {
   "cell_type": "code",
   "execution_count": 44,
   "metadata": {},
   "outputs": [
    {
     "data": {
      "text/plain": [
       "['__call__',\n",
       " '__class__',\n",
       " '__delattr__',\n",
       " '__dict__',\n",
       " '__dir__',\n",
       " '__doc__',\n",
       " '__enter__',\n",
       " '__eq__',\n",
       " '__exit__',\n",
       " '__format__',\n",
       " '__ge__',\n",
       " '__getattribute__',\n",
       " '__gt__',\n",
       " '__hash__',\n",
       " '__init__',\n",
       " '__init_subclass__',\n",
       " '__le__',\n",
       " '__lt__',\n",
       " '__module__',\n",
       " '__ne__',\n",
       " '__new__',\n",
       " '__reduce__',\n",
       " '__reduce_ex__',\n",
       " '__repr__',\n",
       " '__setattr__',\n",
       " '__sizeof__',\n",
       " '__str__',\n",
       " '__subclasshook__',\n",
       " '__weakref__',\n",
       " '_add_conn_hooks',\n",
       " '_aggregates',\n",
       " '_attach_databases',\n",
       " '_attached',\n",
       " '_build_on_conflict_update',\n",
       " '_close',\n",
       " '_collations',\n",
       " '_connect',\n",
       " '_extensions',\n",
       " '_field_types',\n",
       " '_functions',\n",
       " '_initialize_connection',\n",
       " '_load_aggregates',\n",
       " '_load_collations',\n",
       " '_load_extensions',\n",
       " '_load_functions',\n",
       " '_load_window_functions',\n",
       " '_lock',\n",
       " '_operations',\n",
       " '_pragmas',\n",
       " '_set_pragmas',\n",
       " '_set_server_version',\n",
       " '_state',\n",
       " '_table_functions',\n",
       " '_timeout',\n",
       " '_window_functions',\n",
       " 'aggregate',\n",
       " 'atomic',\n",
       " 'attach',\n",
       " 'autorollback',\n",
       " 'batch_commit',\n",
       " 'begin',\n",
       " 'bind',\n",
       " 'bind_ctx',\n",
       " 'cache_size',\n",
       " 'close',\n",
       " 'collation',\n",
       " 'commit',\n",
       " 'commit_select',\n",
       " 'compound_select_parentheses',\n",
       " 'conflict_statement',\n",
       " 'conflict_update',\n",
       " 'connect',\n",
       " 'connect_params',\n",
       " 'connection',\n",
       " 'connection_context',\n",
       " 'context_class',\n",
       " 'create_tables',\n",
       " 'cursor',\n",
       " 'database',\n",
       " 'default_values_insert',\n",
       " 'deferred',\n",
       " 'detach',\n",
       " 'drop_tables',\n",
       " 'execute',\n",
       " 'execute_sql',\n",
       " 'extract_date',\n",
       " 'field_types',\n",
       " 'for_update',\n",
       " 'foreign_keys',\n",
       " 'func',\n",
       " 'get_binary_type',\n",
       " 'get_columns',\n",
       " 'get_context_options',\n",
       " 'get_foreign_keys',\n",
       " 'get_indexes',\n",
       " 'get_noop_select',\n",
       " 'get_primary_keys',\n",
       " 'get_sql_context',\n",
       " 'get_tables',\n",
       " 'get_views',\n",
       " 'in_transaction',\n",
       " 'index_schema_prefix',\n",
       " 'init',\n",
       " 'is_closed',\n",
       " 'journal_mode',\n",
       " 'journal_size_limit',\n",
       " 'last_insert_id',\n",
       " 'limit_max',\n",
       " 'load_extension',\n",
       " 'manual_commit',\n",
       " 'mmap_size',\n",
       " 'nulls_ordering',\n",
       " 'operations',\n",
       " 'page_size',\n",
       " 'param',\n",
       " 'pop_transaction',\n",
       " 'pragma',\n",
       " 'push_transaction',\n",
       " 'quote',\n",
       " 'read_uncommitted',\n",
       " 'register_aggregate',\n",
       " 'register_collation',\n",
       " 'register_function',\n",
       " 'register_table_function',\n",
       " 'register_window_function',\n",
       " 'returning_clause',\n",
       " 'rollback',\n",
       " 'rows_affected',\n",
       " 'safe_create_index',\n",
       " 'safe_drop_index',\n",
       " 'savepoint',\n",
       " 'sequence_exists',\n",
       " 'sequences',\n",
       " 'server_version',\n",
       " 'synchronous',\n",
       " 'table_exists',\n",
       " 'table_function',\n",
       " 'thread_safe',\n",
       " 'timeout',\n",
       " 'top_transaction',\n",
       " 'transaction',\n",
       " 'transaction_depth',\n",
       " 'truncate_date',\n",
       " 'truncate_table',\n",
       " 'unload_extension',\n",
       " 'unregister_aggregate',\n",
       " 'unregister_collation',\n",
       " 'unregister_function',\n",
       " 'unregister_table_function',\n",
       " 'unregister_window_function',\n",
       " 'wal_autocheckpoint',\n",
       " 'window_function']"
      ]
     },
     "execution_count": 44,
     "metadata": {},
     "output_type": "execute_result"
    }
   ],
   "source": [
    "dir(db)"
   ]
  },
  {
   "cell_type": "code",
   "execution_count": 47,
   "metadata": {},
   "outputs": [
    {
     "data": {
      "text/plain": [
       "['DataError',\n",
       " 'DatabaseError',\n",
       " 'Error',\n",
       " 'IntegrityError',\n",
       " 'InterfaceError',\n",
       " 'InternalError',\n",
       " 'NotSupportedError',\n",
       " 'OperationalError',\n",
       " 'ProgrammingError',\n",
       " 'Warning',\n",
       " '__call__',\n",
       " '__class__',\n",
       " '__delattr__',\n",
       " '__dir__',\n",
       " '__doc__',\n",
       " '__enter__',\n",
       " '__eq__',\n",
       " '__exit__',\n",
       " '__format__',\n",
       " '__ge__',\n",
       " '__getattribute__',\n",
       " '__gt__',\n",
       " '__hash__',\n",
       " '__init__',\n",
       " '__init_subclass__',\n",
       " '__le__',\n",
       " '__lt__',\n",
       " '__ne__',\n",
       " '__new__',\n",
       " '__reduce__',\n",
       " '__reduce_ex__',\n",
       " '__repr__',\n",
       " '__setattr__',\n",
       " '__sizeof__',\n",
       " '__str__',\n",
       " '__subclasshook__',\n",
       " 'close',\n",
       " 'commit',\n",
       " 'create_aggregate',\n",
       " 'create_collation',\n",
       " 'create_function',\n",
       " 'cursor',\n",
       " 'enable_load_extension',\n",
       " 'execute',\n",
       " 'executemany',\n",
       " 'executescript',\n",
       " 'in_transaction',\n",
       " 'interrupt',\n",
       " 'isolation_level',\n",
       " 'iterdump',\n",
       " 'load_extension',\n",
       " 'rollback',\n",
       " 'row_factory',\n",
       " 'set_authorizer',\n",
       " 'set_progress_handler',\n",
       " 'set_trace_callback',\n",
       " 'text_factory',\n",
       " 'total_changes']"
      ]
     },
     "execution_count": 47,
     "metadata": {},
     "output_type": "execute_result"
    }
   ],
   "source": [
    " dir(connection)"
   ]
  },
  {
   "cell_type": "code",
   "execution_count": 61,
   "metadata": {},
   "outputs": [],
   "source": [
    "from threading import Thread"
   ]
  },
  {
   "cell_type": "code",
   "execution_count": 65,
   "metadata": {},
   "outputs": [
    {
     "ename": "ImportError",
     "evalue": "cannot import name 'Using'",
     "output_type": "error",
     "traceback": [
      "\u001b[0;31m---------------------------------------------------------------------------\u001b[0m",
      "\u001b[0;31mImportError\u001b[0m                               Traceback (most recent call last)",
      "\u001b[0;32m<ipython-input-65-60907eb35e0e>\u001b[0m in \u001b[0;36m<module>\u001b[0;34m\u001b[0m\n\u001b[0;32m----> 1\u001b[0;31m \u001b[0;32mfrom\u001b[0m \u001b[0mpeewee\u001b[0m \u001b[0;32mimport\u001b[0m \u001b[0mUsing\u001b[0m\u001b[0;34m\u001b[0m\u001b[0m\n\u001b[0m",
      "\u001b[0;31mImportError\u001b[0m: cannot import name 'Using'"
     ]
    }
   ],
   "source": [
    "from peewee import Using"
   ]
  },
  {
   "cell_type": "code",
   "execution_count": 117,
   "metadata": {},
   "outputs": [],
   "source": [
    "# 'table_exists'\n",
    "\n",
    "# 'index_schema_prefix'\n",
    "\n",
    "# 'get_binary_type',\n",
    "# 'get_columns',\n",
    "# 'get_context_options',\n",
    "# 'get_foreign_keys',\n",
    "# 'get_indexes',\n",
    "# 'get_noop_select',\n",
    "# 'get_primary_keys',\n",
    "# 'get_sql_context',\n",
    "# 'get_tables',\n",
    "# 'get_views'"
   ]
  },
  {
   "cell_type": "code",
   "execution_count": 157,
   "metadata": {},
   "outputs": [],
   "source": [
    "COUNT = int(1.5 * 10 ** 5)\n",
    "song_data = [\n",
    "    ('dir1', 'file1'),\n",
    "    ('dir2', 'file2'),\n",
    "    ('dir3', 'file3')\n",
    "]\n",
    "\n",
    "song_data = [\n",
    "    ('dir' + str(i), 'file' + str(i))\n",
    "    for i in range(COUNT)\n",
    "]"
   ]
  },
  {
   "cell_type": "code",
   "execution_count": 158,
   "metadata": {},
   "outputs": [],
   "source": [
    "db1 = SqliteDatabase('tmp1.db')\n",
    "db2 = SqliteDatabase('tmp2.db')\n",
    "\n",
    "for db_now in [db1, db2]:\n",
    "    if db_now.table_exists('rawdata'):\n",
    "        with db_now.bind_ctx([RawData]):\n",
    "            RawData.drop_table()"
   ]
  },
  {
   "cell_type": "code",
   "execution_count": 159,
   "metadata": {},
   "outputs": [
    {
     "name": "stdout",
     "output_type": "stream",
     "text": [
      "[]\n",
      "[]\n"
     ]
    }
   ],
   "source": [
    "print(db1.get_tables())\n",
    "print(db2.get_tables())"
   ]
  },
  {
   "cell_type": "code",
   "execution_count": 160,
   "metadata": {},
   "outputs": [
    {
     "name": "stdout",
     "output_type": "stream",
     "text": [
      "_insert_insert <peewee.SqliteDatabase object at 0x130a34198>\n",
      " <peewee.SqliteDatabase object at 0x13224ef28>\n"
     ]
    },
    {
     "name": "stderr",
     "output_type": "stream",
     "text": [
      "Exception in thread Thread-48:\n",
      "Traceback (most recent call last):\n",
      "  File \"/Users/alexgavr/.local/share/virtualenvs/cbir_project_1-ozgTuFqi/lib/python3.6/site-packages/peewee.py\", line 2936, in execute_sql\n",
      "    cursor.execute(sql, params or ())\n",
      "sqlite3.OperationalError: too many SQL variables\n",
      "\n",
      "During handling of the above exception, another exception occurred:\n",
      "\n",
      "Traceback (most recent call last):\n",
      "  File \"/usr/local/Cellar/python/3.6.5_1/Frameworks/Python.framework/Versions/3.6/lib/python3.6/threading.py\", line 916, in _bootstrap_inner\n",
      "    self.run()\n",
      "  File \"/usr/local/Cellar/python/3.6.5_1/Frameworks/Python.framework/Versions/3.6/lib/python3.6/threading.py\", line 864, in run\n",
      "    self._target(*self._args, **self._kwargs)\n",
      "  File \"<ipython-input-160-494ae8bd3ca6>\", line 16, in _insert\n",
      "    RawData.insert_many(data, fields=[RawData.dir_name, RawData.file_name]).execute()\n",
      "  File \"/Users/alexgavr/.local/share/virtualenvs/cbir_project_1-ozgTuFqi/lib/python3.6/site-packages/peewee.py\", line 1778, in inner\n",
      "    return method(self, database, *args, **kwargs)\n",
      "  File \"/Users/alexgavr/.local/share/virtualenvs/cbir_project_1-ozgTuFqi/lib/python3.6/site-packages/peewee.py\", line 1849, in execute\n",
      "    return self._execute(database)\n",
      "  File \"/Users/alexgavr/.local/share/virtualenvs/cbir_project_1-ozgTuFqi/lib/python3.6/site-packages/peewee.py\", line 2567, in _execute\n",
      "    return super(Insert, self)._execute(database)\n",
      "  File \"/Users/alexgavr/.local/share/virtualenvs/cbir_project_1-ozgTuFqi/lib/python3.6/site-packages/peewee.py\", line 2316, in _execute\n",
      "    cursor = database.execute(self)\n",
      "  File \"/Users/alexgavr/.local/share/virtualenvs/cbir_project_1-ozgTuFqi/lib/python3.6/site-packages/peewee.py\", line 2949, in execute\n",
      "    return self.execute_sql(sql, params, commit=commit)\n",
      "  File \"/Users/alexgavr/.local/share/virtualenvs/cbir_project_1-ozgTuFqi/lib/python3.6/site-packages/peewee.py\", line 2943, in execute_sql\n",
      "    self.commit()\n",
      "  File \"/Users/alexgavr/.local/share/virtualenvs/cbir_project_1-ozgTuFqi/lib/python3.6/site-packages/peewee.py\", line 2725, in __exit__\n",
      "    reraise(new_type, new_type(*exc_args), traceback)\n",
      "  File \"/Users/alexgavr/.local/share/virtualenvs/cbir_project_1-ozgTuFqi/lib/python3.6/site-packages/peewee.py\", line 183, in reraise\n",
      "    raise value.with_traceback(tb)\n",
      "  File \"/Users/alexgavr/.local/share/virtualenvs/cbir_project_1-ozgTuFqi/lib/python3.6/site-packages/peewee.py\", line 2936, in execute_sql\n",
      "    cursor.execute(sql, params or ())\n",
      "peewee.OperationalError: too many SQL variables\n",
      "\n"
     ]
    },
    {
     "name": "stdout",
     "output_type": "stream",
     "text": [
      "cnt1 0\n",
      "cnt2 0\n"
     ]
    },
    {
     "name": "stderr",
     "output_type": "stream",
     "text": [
      "Exception in thread Thread-49:\n",
      "Traceback (most recent call last):\n",
      "  File \"/Users/alexgavr/.local/share/virtualenvs/cbir_project_1-ozgTuFqi/lib/python3.6/site-packages/peewee.py\", line 2936, in execute_sql\n",
      "    cursor.execute(sql, params or ())\n",
      "sqlite3.OperationalError: too many SQL variables\n",
      "\n",
      "During handling of the above exception, another exception occurred:\n",
      "\n",
      "Traceback (most recent call last):\n",
      "  File \"/usr/local/Cellar/python/3.6.5_1/Frameworks/Python.framework/Versions/3.6/lib/python3.6/threading.py\", line 916, in _bootstrap_inner\n",
      "    self.run()\n",
      "  File \"/usr/local/Cellar/python/3.6.5_1/Frameworks/Python.framework/Versions/3.6/lib/python3.6/threading.py\", line 864, in run\n",
      "    self._target(*self._args, **self._kwargs)\n",
      "  File \"<ipython-input-160-494ae8bd3ca6>\", line 16, in _insert\n",
      "    RawData.insert_many(data, fields=[RawData.dir_name, RawData.file_name]).execute()\n",
      "  File \"/Users/alexgavr/.local/share/virtualenvs/cbir_project_1-ozgTuFqi/lib/python3.6/site-packages/peewee.py\", line 1778, in inner\n",
      "    return method(self, database, *args, **kwargs)\n",
      "  File \"/Users/alexgavr/.local/share/virtualenvs/cbir_project_1-ozgTuFqi/lib/python3.6/site-packages/peewee.py\", line 1849, in execute\n",
      "    return self._execute(database)\n",
      "  File \"/Users/alexgavr/.local/share/virtualenvs/cbir_project_1-ozgTuFqi/lib/python3.6/site-packages/peewee.py\", line 2567, in _execute\n",
      "    return super(Insert, self)._execute(database)\n",
      "  File \"/Users/alexgavr/.local/share/virtualenvs/cbir_project_1-ozgTuFqi/lib/python3.6/site-packages/peewee.py\", line 2316, in _execute\n",
      "    cursor = database.execute(self)\n",
      "  File \"/Users/alexgavr/.local/share/virtualenvs/cbir_project_1-ozgTuFqi/lib/python3.6/site-packages/peewee.py\", line 2949, in execute\n",
      "    return self.execute_sql(sql, params, commit=commit)\n",
      "  File \"/Users/alexgavr/.local/share/virtualenvs/cbir_project_1-ozgTuFqi/lib/python3.6/site-packages/peewee.py\", line 2943, in execute_sql\n",
      "    self.commit()\n",
      "  File \"/Users/alexgavr/.local/share/virtualenvs/cbir_project_1-ozgTuFqi/lib/python3.6/site-packages/peewee.py\", line 2725, in __exit__\n",
      "    reraise(new_type, new_type(*exc_args), traceback)\n",
      "  File \"/Users/alexgavr/.local/share/virtualenvs/cbir_project_1-ozgTuFqi/lib/python3.6/site-packages/peewee.py\", line 183, in reraise\n",
      "    raise value.with_traceback(tb)\n",
      "  File \"/Users/alexgavr/.local/share/virtualenvs/cbir_project_1-ozgTuFqi/lib/python3.6/site-packages/peewee.py\", line 2936, in execute_sql\n",
      "    cursor.execute(sql, params or ())\n",
      "peewee.OperationalError: too many SQL variables\n",
      "\n"
     ]
    }
   ],
   "source": [
    "class RawData(Model):\n",
    "    dir_name = CharField()\n",
    "    file_name = CharField()\n",
    "    singer_name = CharField(null=True)\n",
    "    song_name = CharField(null=True)\n",
    "\n",
    "    class Meta:\n",
    "        indexes = (\n",
    "            (('dir_name', 'file_name'), True),\n",
    "        )\n",
    "\n",
    "\n",
    "def _insert(db, data):\n",
    "    print('_insert', db)\n",
    "    with db.bind_ctx([RawData]):\n",
    "        RawData.insert_many(data, fields=[RawData.dir_name, RawData.file_name]).execute()\n",
    "\n",
    "        \n",
    "db1 = SqliteDatabase('tmp1.db')\n",
    "db2 = SqliteDatabase('tmp2.db')\n",
    "\n",
    "with db1.bind_ctx([RawData]):\n",
    "    db1.create_tables([RawData])\n",
    "    \n",
    "with db2.bind_ctx([RawData]):\n",
    "    db2.create_tables([RawData])\n",
    "\n",
    "t1 = Thread(target=_insert, args=(db1, song_data[:int(0.9 * COUNT)]))\n",
    "t2 = Thread(target=_insert, args=(db2, song_data[:COUNT]))\n",
    "\n",
    "t1.start()\n",
    "t2.start()\n",
    "t1.join()\n",
    "t2.join()\n",
    "\n",
    "with db1.bind_ctx([RawData]):\n",
    "    cnt1 = RawData.select().count()\n",
    "    print('cnt1', cnt1)\n",
    "\n",
    "with db2.bind_ctx([RawData]):\n",
    "    cnt2 = RawData.select().count()\n",
    "    print('cnt2', cnt2)"
   ]
  },
  {
   "cell_type": "code",
   "execution_count": 1,
   "metadata": {},
   "outputs": [],
   "source": [
    "def f(arr):\n",
    "    arr[1, 1] = 99"
   ]
  },
  {
   "cell_type": "code",
   "execution_count": 5,
   "metadata": {},
   "outputs": [],
   "source": [
    "proxy = peewee.DatabaseProxy()"
   ]
  },
  {
   "cell_type": "code",
   "execution_count": 4,
   "metadata": {},
   "outputs": [],
   "source": [
    "import peewee"
   ]
  },
  {
   "cell_type": "code",
   "execution_count": 10,
   "metadata": {},
   "outputs": [],
   "source": [
    "proxy.initialize(peewee.SqliteDatabase('b'))"
   ]
  },
  {
   "cell_type": "code",
   "execution_count": null,
   "metadata": {},
   "outputs": [],
   "source": []
  }
 ],
 "metadata": {
  "kernelspec": {
   "display_name": "Django Shell-Plus for cbir_project_1",
   "language": "python",
   "name": "django_extensions"
  },
  "language_info": {
   "codemirror_mode": {
    "name": "ipython",
    "version": 3
   },
   "file_extension": ".py",
   "mimetype": "text/x-python",
   "name": "python",
   "nbconvert_exporter": "python",
   "pygments_lexer": "ipython3",
   "version": "3.6.5"
  }
 },
 "nbformat": 4,
 "nbformat_minor": 2
}
