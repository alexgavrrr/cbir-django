{
 "cells": [
  {
   "cell_type": "code",
   "execution_count": 1,
   "metadata": {},
   "outputs": [],
   "source": [
    "import sys\n",
    "import os\n",
    "from pathlib import Path\n",
    "import pickle\n",
    "import json\n",
    "import sqlite3\n",
    "\n",
    "import numpy as np\n",
    "from PIL import Image\n",
    "import matplotlib.pyplot as plt\n",
    "\n",
    "\n",
    "from cbir import BASE_DIR\n",
    "os.chdir(BASE_DIR)"
   ]
  },
  {
   "cell_type": "code",
   "execution_count": 2,
   "metadata": {},
   "outputs": [],
   "source": [
    "# !ls -lah .cbir/databases/d-2/i-1/"
   ]
  },
  {
   "cell_type": "code",
   "execution_count": 3,
   "metadata": {},
   "outputs": [],
   "source": [
    "# conn = sqlite3.connect('.cbir/databases/d-2/i-1/index.db')\n",
    "# c = conn.cursor()\n",
    "# cursor = c.execute(\"SELECT name FROM sqlite_master WHERE type='table';\")\n",
    "# print(cursor.fetchall())\n",
    "# conn.close()"
   ]
  },
  {
   "cell_type": "markdown",
   "metadata": {},
   "source": [
    "______"
   ]
  },
  {
   "cell_type": "code",
   "execution_count": 6,
   "metadata": {},
   "outputs": [],
   "source": [
    "database = 'd-sample'\n",
    "index = 'i-6'"
   ]
  },
  {
   "cell_type": "code",
   "execution_count": 7,
   "metadata": {},
   "outputs": [
    {
     "name": "stdout",
     "output_type": "stream",
     "text": [
      "{'des_type': 'HardNetAll', 'max_keypoints': 2000, 'K': 10, 'L': 5, 'n_words': 100000}\n"
     ]
    }
   ],
   "source": [
    "with open(f'.cbir/databases/{database}/{index}/params.pkl', 'rb') as f:\n",
    "    params = pickle.load(f)\n",
    "K = params['K']\n",
    "L = params['L']\n",
    "N = K ** L\n",
    "print(params)"
   ]
  },
  {
   "cell_type": "code",
   "execution_count": 8,
   "metadata": {},
   "outputs": [
    {
     "name": "stdout",
     "output_type": "stream",
     "text": [
      "dict_keys(['count_images', 'freqs', 'idf', 'most_frequent', 'least_frequent'])\n",
      "count_images: 2\n"
     ]
    }
   ],
   "source": [
    "with open(f'.cbir/databases/{database}/{index}/data_dependent_params.pkl', 'rb') as f:\n",
    "    data_dependent_params = pickle.load(f)\n",
    "print(data_dependent_params.keys())\n",
    "print('count_images:', data_dependent_params['count_images'])"
   ]
  },
  {
   "cell_type": "code",
   "execution_count": 9,
   "metadata": {},
   "outputs": [],
   "source": [
    "word_to_count_photos = [0] * N"
   ]
  },
  {
   "cell_type": "code",
   "execution_count": 10,
   "metadata": {},
   "outputs": [],
   "source": [
    "conn = sqlite3.connect(f'.cbir/databases/{database}/{index}/index.db')\n",
    "c = conn.cursor()\n",
    "cursor = c.execute('select word, photos from word')\n",
    "for row in cursor:\n",
    "    word_to_count_photos[row[0]] = len(pickle.loads(row[1]))\n",
    "conn.close()"
   ]
  },
  {
   "cell_type": "code",
   "execution_count": 11,
   "metadata": {},
   "outputs": [
    {
     "name": "stdout",
     "output_type": "stream",
     "text": [
      "710\n"
     ]
    }
   ],
   "source": [
    "print(len(list(filter(lambda x: x != 0, word_to_count_photos))))"
   ]
  },
  {
   "cell_type": "code",
   "execution_count": 12,
   "metadata": {},
   "outputs": [
    {
     "data": {
      "image/png": "[encoded data removed]",
      "text/plain": [
       "<Figure size 432x288 with 1 Axes>"
      ]
     },
     "metadata": {
      "needs_background": "light"
     },
     "output_type": "display_data"
    }
   ],
   "source": [
    "plt.plot(sorted(word_to_count_photos));"
   ]
  },
  {
   "cell_type": "markdown",
   "metadata": {},
   "source": [
    "_____"
   ]
  },
  {
   "cell_type": "code",
   "execution_count": 14,
   "metadata": {},
   "outputs": [
    {
     "name": "stdout",
     "output_type": "stream",
     "text": [
      "(10001,)\n",
      "[   2    0    0 ...    0    0 2000]\n",
      "(10001,)\n",
      "[   2    0    0 ...    0    0 2000]\n"
     ]
    }
   ],
   "source": [
    "conn = sqlite3.connect(f'.cbir/databases/{database}/{index}/index.db')\n",
    "c = conn.cursor()\n",
    "cursor = c.execute('select * from photobow limit 5')\n",
    "for row in cursor:\n",
    "    photo_bow_raw = row\n",
    "    bow_sparse = pickle.loads(photo_bow_raw[1])\n",
    "    bow = bow_sparse.toarray().squeeze()\n",
    "    print(bow.shape)\n",
    "    print(bow)\n",
    "conn.close()"
   ]
  },
  {
   "cell_type": "code",
   "execution_count": null,
   "metadata": {},
   "outputs": [],
   "source": []
  }
 ],
 "metadata": {
  "kernelspec": {
   "display_name": "Django Shell-Plus for cbir_project_1",
   "language": "python",
   "name": "django_extensions"
  },
  "language_info": {
   "codemirror_mode": {
    "name": "ipython",
    "version": 3
   },
   "file_extension": ".py",
   "mimetype": "text/x-python",
   "name": "python",
   "nbconvert_exporter": "python",
   "pygments_lexer": "ipython3",
   "version": "3.6.5"
  }
 },
 "nbformat": 4,
 "nbformat_minor": 2
}
