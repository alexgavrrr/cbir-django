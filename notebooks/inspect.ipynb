{
 "cells": [
  {
   "cell_type": "code",
   "execution_count": 29,
   "metadata": {},
   "outputs": [],
   "source": [
    "import json\n",
    "import pickle\n",
    "from pathlib import Path\n",
    "import os\n",
    "\n",
    "from cbir import DATABASES\n",
    "from cbir.photo_storage_inverted_file import Storage"
   ]
  },
  {
   "cell_type": "code",
   "execution_count": 5,
   "metadata": {},
   "outputs": [
    {
     "name": "stdout",
     "output_type": "stream",
     "text": [
      "Loading cbir_pretrained network...\n",
      "Loading clusterer...\n",
      "Loading descriptors...\n"
     ]
    }
   ],
   "source": [
    "database = 'first'\n",
    "cbir_index_name = 'aza'\n",
    "storage = Storage(Path(DATABASES) / database / cbir_index_name,\n",
    "                                                  testing_path=None,\n",
    "                                                  training_path=None,\n",
    "                                                  des_type='l2net',\n",
    "                                                  label='',\n",
    "                                                  max_keypoints=2000,\n",
    "                                                  L=2,\n",
    "                                                  K=10,\n",
    "                                                  extensions=['jpg'],\n",
    "                                                  debug=True)"
   ]
  },
  {
   "cell_type": "code",
   "execution_count": 6,
   "metadata": {},
   "outputs": [
    {
     "name": "stdout",
     "output_type": "stream",
     "text": [
      "a\n"
     ]
    }
   ],
   "source": [
    "storage.show()"
   ]
  },
  {
   "cell_type": "code",
   "execution_count": 7,
   "metadata": {},
   "outputs": [
    {
     "data": {
      "text/plain": [
       "['K',\n",
       " 'L',\n",
       " '__class__',\n",
       " '__delattr__',\n",
       " '__dict__',\n",
       " '__dir__',\n",
       " '__doc__',\n",
       " '__eq__',\n",
       " '__format__',\n",
       " '__ge__',\n",
       " '__getattribute__',\n",
       " '__gt__',\n",
       " '__hash__',\n",
       " '__init__',\n",
       " '__init_subclass__',\n",
       " '__le__',\n",
       " '__lt__',\n",
       " '__module__',\n",
       " '__ne__',\n",
       " '__new__',\n",
       " '__reduce__',\n",
       " '__reduce_ex__',\n",
       " '__repr__',\n",
       " '__setattr__',\n",
       " '__sizeof__',\n",
       " '__str__',\n",
       " '__subclasshook__',\n",
       " '__weakref__',\n",
       " 'bow',\n",
       " 'bow_path',\n",
       " 'ca',\n",
       " 'ca_path',\n",
       " 'create_new_index',\n",
       " 'debug',\n",
       " 'des_path',\n",
       " 'des_type',\n",
       " 'extensions',\n",
       " 'f_names',\n",
       " 'f_names_path',\n",
       " 'fd',\n",
       " 'get_bow_vector',\n",
       " 'get_candidates',\n",
       " 'get_descriptor',\n",
       " 'get_similar',\n",
       " 'idf',\n",
       " 'index',\n",
       " 'inverted_index',\n",
       " 'inverted_index_path',\n",
       " 'label',\n",
       " 'least_frequent',\n",
       " 'load',\n",
       " 'load_ca',\n",
       " 'load_descriptors',\n",
       " 'max_keypoints',\n",
       " 'most_frequent',\n",
       " 'n_words',\n",
       " 'params_path',\n",
       " 'ransac',\n",
       " 'save',\n",
       " 'save_ca',\n",
       " 'save_descriptors',\n",
       " 'show',\n",
       " 'storage_path',\n",
       " 'test_path',\n",
       " 'training_path']"
      ]
     },
     "execution_count": 7,
     "metadata": {},
     "output_type": "execute_result"
    }
   ],
   "source": [
    "dir(storage)"
   ]
  },
  {
   "cell_type": "code",
   "execution_count": 8,
   "metadata": {},
   "outputs": [
    {
     "data": {
      "text/plain": [
       "<cbir.vocabulary_tree.VocabularyTree at 0x134224f28>"
      ]
     },
     "execution_count": 8,
     "metadata": {},
     "output_type": "execute_result"
    }
   ],
   "source": [
    "storage.ca"
   ]
  },
  {
   "cell_type": "code",
   "execution_count": 9,
   "metadata": {},
   "outputs": [
    {
     "data": {
      "text/plain": [
       "('/Users/alexgavr/main/Projects/cbir_project_1/public/media/content/first/database_all/Cat03.jpg',\n",
       " '/Users/alexgavr/main/Projects/cbir_project_1/public/media/content/first/database_all/Cat03_IOCSHpR.jpg',\n",
       " '/Users/alexgavr/main/Projects/cbir_project_1/public/media/content/first/database_all/all_souls_000000.jpg',\n",
       " '/Users/alexgavr/main/Projects/cbir_project_1/public/media/content/first/database_all/all_souls_000001.jpg',\n",
       " '/Users/alexgavr/main/Projects/cbir_project_1/public/media/content/first/database_all/all_souls_000002.jpg',\n",
       " '/Users/alexgavr/main/Projects/cbir_project_1/public/media/content/first/database_all/all_souls_000003.jpg',\n",
       " '/Users/alexgavr/main/Projects/cbir_project_1/public/media/content/first/database_all/all_souls_000003_Gu74fro.jpg')"
      ]
     },
     "execution_count": 9,
     "metadata": {},
     "output_type": "execute_result"
    }
   ],
   "source": [
    "storage.f_names"
   ]
  },
  {
   "cell_type": "code",
   "execution_count": 10,
   "metadata": {},
   "outputs": [
    {
     "data": {
      "text/plain": [
       "<7x101 sparse matrix of type '<class 'numpy.int16'>'\n",
       "\twith 488 stored elements in Compressed Sparse Row format>"
      ]
     },
     "execution_count": 10,
     "metadata": {},
     "output_type": "execute_result"
    }
   ],
   "source": [
    "storage.bow"
   ]
  },
  {
   "cell_type": "code",
   "execution_count": 22,
   "metadata": {},
   "outputs": [
    {
     "data": {
      "text/plain": [
       "array([[-0.12070733, -0.08379643, -0.00843006, ...,  0.03233428,\n",
       "        -0.04105425,  0.03952947],\n",
       "       [-0.05562462, -0.05973979, -0.06420679, ..., -0.00221672,\n",
       "         0.04558752,  0.09454025],\n",
       "       [-0.074357  , -0.10073075, -0.01128848, ..., -0.05978973,\n",
       "        -0.06969026, -0.00219074],\n",
       "       ...,\n",
       "       [ 0.13044655,  0.06957438, -0.12118187, ..., -0.09543767,\n",
       "        -0.17572585, -0.15866183],\n",
       "       [ 0.00466998, -0.06784882, -0.00783406, ...,  0.07124534,\n",
       "         0.19868568,  0.14694154],\n",
       "       [ 0.004077  ,  0.01372434,  0.07692358, ...,  0.04435905,\n",
       "         0.02606063,  0.03216942]], dtype=float32)"
      ]
     },
     "execution_count": 22,
     "metadata": {},
     "output_type": "execute_result"
    }
   ],
   "source": [
    "next(iter(storage.index.values()))[0]"
   ]
  },
  {
   "cell_type": "code",
   "execution_count": 23,
   "metadata": {},
   "outputs": [
    {
     "data": {
      "text/plain": [
       "[{0, 1, 2, 3, 4, 5, 6},\n",
       " set(),\n",
       " set(),\n",
       " set(),\n",
       " set(),\n",
       " set(),\n",
       " set(),\n",
       " set(),\n",
       " set(),\n",
       " set(),\n",
       " {0, 1, 2, 3, 4, 5, 6},\n",
       " {0, 1},\n",
       " {0, 1, 2, 3, 4, 5, 6},\n",
       " {0, 1, 2, 3, 4, 5, 6},\n",
       " {3},\n",
       " {3},\n",
       " {0, 1, 2, 3, 4, 5, 6},\n",
       " {0, 1, 2, 3, 4, 5, 6},\n",
       " {2},\n",
       " {0, 1, 2, 3, 4, 5, 6},\n",
       " {3},\n",
       " {0, 1, 2, 3, 4, 5, 6},\n",
       " {2},\n",
       " {0, 1, 2, 3, 4, 5, 6},\n",
       " {0, 1, 2, 3, 4, 5, 6},\n",
       " {0, 1, 2, 3, 4, 5, 6},\n",
       " {0, 1, 2, 4, 5, 6},\n",
       " {0, 1, 2, 3, 4, 5, 6},\n",
       " {0, 1, 2, 3, 4, 5, 6},\n",
       " {5, 6},\n",
       " {0, 1, 2, 3, 4, 5, 6},\n",
       " {0, 1, 2, 3, 4, 5, 6},\n",
       " {0, 1},\n",
       " {0, 1, 2, 3, 4, 5, 6},\n",
       " {2, 3, 4},\n",
       " {0, 1, 2, 3, 4, 5, 6},\n",
       " {0, 1, 2, 3, 4, 5, 6},\n",
       " {4},\n",
       " {0, 1, 2, 3, 4, 5, 6},\n",
       " {0, 1, 2, 3, 4, 5, 6},\n",
       " {4},\n",
       " {2},\n",
       " {0, 1, 2, 3, 4, 5, 6},\n",
       " {0, 1, 2, 3, 4, 5, 6},\n",
       " {2, 4},\n",
       " {0, 1, 2, 3, 4, 5, 6},\n",
       " {0, 1, 2, 3, 4, 5, 6},\n",
       " {0, 1, 2, 3, 4, 5, 6},\n",
       " {5, 6},\n",
       " {0, 1, 2, 3, 4, 5, 6},\n",
       " {0, 1, 2, 3, 4, 5, 6},\n",
       " {0, 1, 2, 3, 4, 5, 6},\n",
       " {2, 3, 4, 5, 6},\n",
       " {0, 1, 2, 3, 4, 5, 6},\n",
       " {0, 1, 2, 3, 5, 6},\n",
       " {5, 6},\n",
       " {0, 1, 2, 3, 4, 5, 6},\n",
       " {2},\n",
       " {3},\n",
       " {5, 6},\n",
       " {0, 1, 2, 3, 4, 5, 6},\n",
       " {0, 1, 2, 3, 4, 5, 6},\n",
       " {0, 1},\n",
       " {0, 1, 2, 3, 4, 5, 6},\n",
       " {0, 1, 2, 3, 4, 5, 6},\n",
       " {0, 1, 2, 3, 4, 5, 6},\n",
       " {0, 1, 2, 3, 4, 5, 6},\n",
       " {5, 6},\n",
       " {0, 1, 2, 3, 4, 5, 6},\n",
       " {0, 1, 5, 6},\n",
       " {0, 1, 2, 3, 4, 5, 6},\n",
       " {0, 1, 2, 3, 4, 5, 6},\n",
       " {2},\n",
       " {3},\n",
       " {0, 1, 2, 3, 4, 5, 6},\n",
       " {0, 1, 2, 3, 4, 5, 6},\n",
       " {0, 1, 2, 3, 4, 5, 6},\n",
       " {0, 1, 2, 3, 4, 5, 6},\n",
       " {0, 1, 2, 3, 4, 5, 6},\n",
       " {2, 5, 6},\n",
       " {0, 1, 2, 3, 4, 5, 6},\n",
       " {0, 1, 2, 3, 4, 5, 6},\n",
       " {0, 1, 2, 3, 4, 5, 6},\n",
       " {0, 1, 2, 3, 4, 5, 6},\n",
       " {0, 1, 2, 3, 4, 5, 6},\n",
       " {0, 1},\n",
       " {0, 1, 2, 3, 4, 5, 6},\n",
       " {0, 1, 2, 3, 4, 5, 6},\n",
       " {5, 6},\n",
       " {3},\n",
       " {0, 1, 2, 3, 4, 5, 6},\n",
       " {0, 1, 2, 3, 4, 5, 6},\n",
       " {0, 1, 2, 3, 4, 5, 6},\n",
       " {0, 1, 2, 3, 4, 5, 6},\n",
       " {0, 1, 2, 3, 4, 5, 6},\n",
       " {0, 1, 2, 3, 4, 5, 6},\n",
       " {4},\n",
       " {0, 1, 3, 5, 6},\n",
       " {0, 1, 2, 3, 4, 5, 6},\n",
       " {0, 1, 2, 3, 4, 5, 6}]"
      ]
     },
     "execution_count": 23,
     "metadata": {},
     "output_type": "execute_result"
    }
   ],
   "source": [
    "storage.inverted_index"
   ]
  },
  {
   "cell_type": "code",
   "execution_count": 25,
   "metadata": {},
   "outputs": [
    {
     "ename": "AttributeError",
     "evalue": "'Storage' object has no attribute 'params'",
     "output_type": "error",
     "traceback": [
      "\u001b[0;31m---------------------------------------------------------------------------\u001b[0m",
      "\u001b[0;31mAttributeError\u001b[0m                            Traceback (most recent call last)",
      "\u001b[0;32m<ipython-input-25-b8d00087d5ad>\u001b[0m in \u001b[0;36m<module>\u001b[0;34m\u001b[0m\n\u001b[0;32m----> 1\u001b[0;31m \u001b[0mstorage\u001b[0m\u001b[0;34m.\u001b[0m\u001b[0mparams\u001b[0m\u001b[0;34m\u001b[0m\u001b[0m\n\u001b[0m",
      "\u001b[0;31mAttributeError\u001b[0m: 'Storage' object has no attribute 'params'"
     ]
    }
   ],
   "source": [
    "storage.params"
   ]
  },
  {
   "cell_type": "code",
   "execution_count": 26,
   "metadata": {},
   "outputs": [
    {
     "data": {
      "text/plain": [
       "'/Users/alexgavr/main/Projects/cbir_project_1/.cbir/databases/first/aza/params_l2net_.pkl'"
      ]
     },
     "execution_count": 26,
     "metadata": {},
     "output_type": "execute_result"
    }
   ],
   "source": [
    "storage.params_path"
   ]
  },
  {
   "cell_type": "code",
   "execution_count": 32,
   "metadata": {},
   "outputs": [
    {
     "data": {
      "text/plain": [
       "'/Users/alexgavr/main/Projects/cbir_project_1/.cbir/databases/first/aza/params_l2net_.pkl'"
      ]
     },
     "execution_count": 32,
     "metadata": {},
     "output_type": "execute_result"
    }
   ],
   "source": [
    "os.path.join(storage.storage_path,\n",
    "                               'params_{}_{}.pkl'.format(storage.des_type,\n",
    "                                                         storage.label))"
   ]
  },
  {
   "cell_type": "code",
   "execution_count": 27,
   "metadata": {},
   "outputs": [
    {
     "ename": "TypeError",
     "evalue": "file must have 'read' and 'readline' attributes",
     "output_type": "error",
     "traceback": [
      "\u001b[0;31m---------------------------------------------------------------------------\u001b[0m",
      "\u001b[0;31mTypeError\u001b[0m                                 Traceback (most recent call last)",
      "\u001b[0;32m<ipython-input-27-6e4010f95e08>\u001b[0m in \u001b[0;36m<module>\u001b[0;34m\u001b[0m\n\u001b[0;32m----> 1\u001b[0;31m \u001b[0mpickle\u001b[0m\u001b[0;34m.\u001b[0m\u001b[0mload\u001b[0m\u001b[0;34m(\u001b[0m\u001b[0mstorage\u001b[0m\u001b[0;34m.\u001b[0m\u001b[0mparams_path\u001b[0m\u001b[0;34m)\u001b[0m\u001b[0;34m\u001b[0m\u001b[0m\n\u001b[0m",
      "\u001b[0;31mTypeError\u001b[0m: file must have 'read' and 'readline' attributes"
     ]
    }
   ],
   "source": [
    "with open(os.path.join(self.storage_path,\n",
    "                       'params_{}_{}.pkl'.format(self.des_type,\n",
    "                                                 self.label)), 'rb') as f:\n",
    "    params = pickle.load(f)\n",
    "pickle.load(storage.params_path)"
   ]
  },
  {
   "cell_type": "code",
   "execution_count": 33,
   "metadata": {},
   "outputs": [],
   "source": [
    "with open(storage.params_path, 'rb') as f:\n",
    "    params = pickle.load(f)"
   ]
  },
  {
   "cell_type": "code",
   "execution_count": 34,
   "metadata": {},
   "outputs": [
    {
     "data": {
      "text/plain": [
       "{'max_keypoints': 2000,\n",
       " 'n_words': 100,\n",
       " 'idf': array([0.        , 0.        , 0.        , 0.        , 0.        ,\n",
       "        0.        , 0.        , 0.        , 0.        , 0.        ,\n",
       "        0.        , 1.25276297, 0.        , 0.        , 1.94591015,\n",
       "        1.94591015, 0.        , 0.        , 1.94591015, 0.        ,\n",
       "        1.94591015, 0.        , 1.94591015, 0.        , 0.        ,\n",
       "        0.        , 0.15415068, 0.        , 0.        , 1.25276297,\n",
       "        0.        , 0.        , 1.25276297, 0.        , 0.84729786,\n",
       "        0.        , 0.        , 1.94591015, 0.        , 0.        ,\n",
       "        1.94591015, 1.94591015, 0.        , 0.        , 1.25276297,\n",
       "        0.        , 0.        , 0.        , 1.25276297, 0.        ,\n",
       "        0.        , 0.        , 0.33647224, 0.        , 0.15415068,\n",
       "        1.25276297, 0.        , 1.94591015, 1.94591015, 1.25276297,\n",
       "        0.        , 0.        , 1.25276297, 0.        , 0.        ,\n",
       "        0.        , 0.        , 1.25276297, 0.        , 0.55961579,\n",
       "        0.        , 0.        , 1.94591015, 1.94591015, 0.        ,\n",
       "        0.        , 0.        , 0.        , 0.        , 0.84729786,\n",
       "        0.        , 0.        , 0.        , 0.        , 0.        ,\n",
       "        1.25276297, 0.        , 0.        , 1.25276297, 1.94591015,\n",
       "        0.        , 0.        , 0.        , 0.        , 0.        ,\n",
       "        0.        , 1.94591015, 0.33647224, 0.        , 0.        ]),\n",
       " 'most_frequent': array([46, 45, 43, 42, 39, 38, 47, 99]),\n",
       " 'least_frequent': array([8, 1, 2, 3, 4, 5, 6, 7]),\n",
       " 'bow_path': '/Users/alexgavr/main/Projects/cbir_project_1/.cbir/databases/first/aza/bow_l2net_.pkl',\n",
       " 'inverted_index_path': '/Users/alexgavr/main/Projects/cbir_project_1/.cbir/databases/first/aza/inverted_index_l2net_.pkl',\n",
       " 'f_names_path': '/Users/alexgavr/main/Projects/cbir_project_1/.cbir/databases/first/aza/f_names_l2net_.pkl',\n",
       " 'ca_path': '/Users/alexgavr/main/Projects/cbir_project_1/.cbir/databases/first/aza/clusterer_l2net_.pkl',\n",
       " 'des_path': '/Users/alexgavr/main/Projects/cbir_project_1/.cbir/databases/first/aza/des_l2net.pkl'}"
      ]
     },
     "execution_count": 34,
     "metadata": {},
     "output_type": "execute_result"
    }
   ],
   "source": [
    "params"
   ]
  }
 ],
 "metadata": {
  "kernelspec": {
   "display_name": "Django Shell-Plus for cbir_project_1",
   "language": "python",
   "name": "django_extensions"
  },
  "language_info": {
   "codemirror_mode": {
    "name": "ipython",
    "version": 3
   },
   "file_extension": ".py",
   "mimetype": "text/x-python",
   "name": "python",
   "nbconvert_exporter": "python",
   "pygments_lexer": "ipython3",
   "version": "3.6.5"
  }
 },
 "nbformat": 4,
 "nbformat_minor": 2
}
