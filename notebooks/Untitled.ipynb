{
 "cells": [
  {
   "cell_type": "code",
   "execution_count": 1,
   "metadata": {},
   "outputs": [],
   "source": [
    "import django"
   ]
  },
  {
   "cell_type": "code",
   "execution_count": 5,
   "metadata": {},
   "outputs": [],
   "source": [
    "fifth = Database.objects.all()[0]"
   ]
  },
  {
   "cell_type": "code",
   "execution_count": 10,
   "metadata": {},
   "outputs": [
    {
     "data": {
      "text/plain": [
       "['DEFAULT_CHUNK_SIZE',\n",
       " '__bool__',\n",
       " '__class__',\n",
       " '__delattr__',\n",
       " '__dict__',\n",
       " '__dir__',\n",
       " '__doc__',\n",
       " '__enter__',\n",
       " '__eq__',\n",
       " '__exit__',\n",
       " '__format__',\n",
       " '__ge__',\n",
       " '__getattribute__',\n",
       " '__getstate__',\n",
       " '__gt__',\n",
       " '__hash__',\n",
       " '__init__',\n",
       " '__init_subclass__',\n",
       " '__iter__',\n",
       " '__le__',\n",
       " '__len__',\n",
       " '__lt__',\n",
       " '__module__',\n",
       " '__ne__',\n",
       " '__new__',\n",
       " '__reduce__',\n",
       " '__reduce_ex__',\n",
       " '__repr__',\n",
       " '__setattr__',\n",
       " '__sizeof__',\n",
       " '__str__',\n",
       " '__subclasshook__',\n",
       " '__weakref__',\n",
       " '_committed',\n",
       " '_del_file',\n",
       " '_file',\n",
       " '_get_file',\n",
       " '_require_file',\n",
       " '_set_file',\n",
       " 'chunks',\n",
       " 'close',\n",
       " 'closed',\n",
       " 'delete',\n",
       " 'encoding',\n",
       " 'field',\n",
       " 'file',\n",
       " 'fileno',\n",
       " 'flush',\n",
       " 'instance',\n",
       " 'isatty',\n",
       " 'multiple_chunks',\n",
       " 'name',\n",
       " 'newlines',\n",
       " 'open',\n",
       " 'path',\n",
       " 'read',\n",
       " 'readable',\n",
       " 'readinto',\n",
       " 'readline',\n",
       " 'readlines',\n",
       " 'save',\n",
       " 'seek',\n",
       " 'seekable',\n",
       " 'size',\n",
       " 'storage',\n",
       " 'tell',\n",
       " 'truncate',\n",
       " 'url',\n",
       " 'writable',\n",
       " 'write',\n",
       " 'writelines']"
      ]
     },
     "execution_count": 10,
     "metadata": {},
     "output_type": "execute_result"
    }
   ],
   "source": [
    "fifth.description\n",
    "dir(fifth.description_file)"
   ]
  },
  {
   "cell_type": "code",
   "execution_count": 18,
   "metadata": {},
   "outputs": [
    {
     "name": "stdout",
     "output_type": "stream",
     "text": [
      "fifth.description_file.file: /Users/alexgavr/main/Projects/cbir_project_1/public/media/content/fifth/description.txt\n",
      "type(fifth.description_file.file): <class 'django.core.files.base.File'>\n",
      "fifth.description_file.file.name: /Users/alexgavr/main/Projects/cbir_project_1/public/media/content/fifth/description.txt\n",
      "fifth.description_file.name: content/fifth/description.txt\n",
      "fifth.description_file.url:  /media/content/fifth/description.txt\n"
     ]
    }
   ],
   "source": [
    "print(f'fifth.description_file.file: {fifth.description_file.file}\\n'\n",
    "      f'type(fifth.description_file.file): {type(fifth.description_file.file)}\\n'\n",
    "      f'fifth.description_file.file.name: {fifth.description_file.file.name}\\n'\n",
    "    f'fifth.description_file.name: {fifth.description_file.name}\\n'\n",
    "    f'fifth.description_file.url:  {fifth.description_file.url}')"
   ]
  },
  {
   "cell_type": "code",
   "execution_count": null,
   "metadata": {},
   "outputs": [],
   "source": []
  }
 ],
 "metadata": {
  "kernelspec": {
   "display_name": "Django Shell-Plus for cbir_project_1",
   "language": "python",
   "name": "django_extensions"
  },
  "language_info": {
   "codemirror_mode": {
    "name": "ipython",
    "version": 3
   },
   "file_extension": ".py",
   "mimetype": "text/x-python",
   "name": "python",
   "nbconvert_exporter": "python",
   "pygments_lexer": "ipython3",
   "version": "3.6.5"
  }
 },
 "nbformat": 4,
 "nbformat_minor": 2
}
